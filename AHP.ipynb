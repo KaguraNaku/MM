{
 "cells": [
  {
   "cell_type": "code",
   "execution_count": 18,
   "id": "fcc56033",
   "metadata": {},
   "outputs": [
    {
     "data": {
      "text/plain": [
       "array([[1.        , 2.        , 3.        , 5.        ],\n",
       "       [0.5       , 1.        , 0.5       , 2.        ],\n",
       "       [0.33333333, 2.        , 1.        , 2.        ],\n",
       "       [0.2       , 0.5       , 0.5       , 1.        ]])"
      ]
     },
     "execution_count": 18,
     "metadata": {},
     "output_type": "execute_result"
    }
   ],
   "source": [
    "import numpy as np\n",
    "A = np.array([[1,2,3,5], [1/2, 1, 1/2, 2], [1/3, 2, 1, 2], [1/5, 1/2, 1/2, 1]])\n",
    "# A = np.array([[1,2,3,5], [1/2, 1, 1/2, 2], [1/3, 2, 1, 1/2], [1/5, 1/2, 2, 1]]) #反例\n",
    "A"
   ]
  },
  {
   "cell_type": "code",
   "execution_count": 19,
   "id": "6da60a2e",
   "metadata": {},
   "outputs": [
    {
     "data": {
      "text/plain": [
       "4"
      ]
     },
     "execution_count": 19,
     "metadata": {},
     "output_type": "execute_result"
    }
   ],
   "source": [
    "n = A.shape[0] #获取行信息。同理，为方阵，可用len获取\n",
    "n "
   ]
  },
  {
   "cell_type": "code",
   "execution_count": 20,
   "id": "0760138d",
   "metadata": {},
   "outputs": [
    {
     "name": "stdout",
     "output_type": "stream",
     "text": [
      "一致性指标CI= (0.037610012730717436+0j)\n",
      "一致性比例CR= (0.04225844127046903+0j)\n",
      "一致性可接受\n"
     ]
    }
   ],
   "source": [
    "eig_val, eig_vec = np.linalg.eig(A)\n",
    "max_eig = max(eig_val) #求最大特征值\n",
    "CI = (max_eig - n) / (n - 1)\n",
    "RI = [0, 0.0001, 0.52, 0.89, 1.12, 1.26, 1.36, 1.41, 1.46, 1.49, 1.52, 1.54, 1.56, 1.58, 1.59] # => 涉及拉普拉斯平滑问题。在mat中，第二项仍为0\n",
    "\n",
    "# 所谓正经编程语言与非正经编程语言，注意下标的表示形式差别。\n",
    "CR = CI / RI[n-1]\n",
    "print('一致性指标CI=', CI)\n",
    "print('一致性比例CR=', CR)\n",
    "\n",
    "if CR < 0.1:\n",
    "    print('一致性可接受')\n",
    "else:\n",
    "    raise Exception('一致性不符合要求，拒绝接受!')\n"
   ]
  },
  {
   "cell_type": "markdown",
   "id": "9de6e51d",
   "metadata": {},
   "source": [
    "# 2、算数平均法求权重"
   ]
  },
  {
   "cell_type": "code",
   "execution_count": 21,
   "id": "e23f2e70",
   "metadata": {},
   "outputs": [
    {
     "name": "stdout",
     "output_type": "stream",
     "text": [
      "[0.48885991 0.18192996 0.2318927  0.09731744]\n"
     ]
    }
   ],
   "source": [
    "a_sum = np.sum(A, axis=0) #按列求和\n",
    "stand_A = A / a_sum\n",
    "a_sum_r = np.sum(stand_A, axis=1) #相加到1行\n",
    "weights = a_sum_r / n\n",
    "print(weights)"
   ]
  },
  {
   "cell_type": "markdown",
   "id": "2b500a48",
   "metadata": {},
   "source": [
    "# 3、几何平均法求权重"
   ]
  },
  {
   "cell_type": "code",
   "execution_count": 22,
   "id": "ce6688e6",
   "metadata": {},
   "outputs": [
    {
     "name": "stdout",
     "output_type": "stream",
     "text": [
      "[0.49492567 0.17782883 0.22724501 0.1000005 ]\n"
     ]
    }
   ],
   "source": [
    "prod_A = np.prod(A, axis=1)\n",
    "prod_n_A = np.power(prod_A, 1/n) #指数运算\n",
    "re_prod_A = prod_n_A / np.sum(prod_n_A)\n",
    "print(re_prod_A)"
   ]
  },
  {
   "cell_type": "markdown",
   "id": "d1332104",
   "metadata": {},
   "source": [
    "# 4、特征值法求权重"
   ]
  },
  {
   "cell_type": "code",
   "execution_count": 23,
   "id": "2040e850",
   "metadata": {},
   "outputs": [
    {
     "name": "stdout",
     "output_type": "stream",
     "text": [
      "[0.4933895 +0.j 0.17884562+0.j 0.230339  +0.j 0.09742588+0.j]\n"
     ]
    }
   ],
   "source": [
    "#找出最大特征值的索引\n",
    "max_index = np.argmax(eig_val)\n",
    "#切片取特征向量\n",
    "max_vector = eig_vec[:, max_index]\n",
    "weights = max_vector / np.sum(max_vector)\n",
    "print(weights)"
   ]
  }
 ],
 "metadata": {
  "kernelspec": {
   "display_name": "Python 3 (ipykernel)",
   "language": "python",
   "name": "python3"
  },
  "language_info": {
   "codemirror_mode": {
    "name": "ipython",
    "version": 3
   },
   "file_extension": ".py",
   "mimetype": "text/x-python",
   "name": "python",
   "nbconvert_exporter": "python",
   "pygments_lexer": "ipython3",
   "version": "3.11.4"
  }
 },
 "nbformat": 4,
 "nbformat_minor": 5
}
